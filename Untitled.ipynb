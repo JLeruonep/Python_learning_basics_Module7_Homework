{
 "cells": [
  {
   "cell_type": "code",
   "execution_count": 3,
   "id": "bc96926b",
   "metadata": {},
   "outputs": [],
   "source": [
    "import pandas as pd\n",
    "import collections\n",
    "import openpyxl\n",
    "from pprint import pprint"
   ]
  },
  {
   "cell_type": "markdown",
   "id": "a5ddd801",
   "metadata": {},
   "source": [
    "Необходимо вычислить:\n",
    "\n",
    "1. 7 самых популярных браузеров по посещаемости. Одна строка в журнале логов - это одно посещение. Названия браузеров заполнить в ячейках A5-A11 по убыванию итогового количества посещений для браузера. В ячейке A5 должно быть название браузера, у которого больше всего посещений, в ячейке A11 - название браузера, у которого меньше всего посещений.  Ячейки “Количество посещений” заполнить количеством посещений для каждого браузера по месяцам;\n",
    "2. 7 самых популярных товаров. Товары находятся в колонке “Купленные товары” в файле logs. Каждая строка логов содержит несколько товаров, разделитель - запятая. Названия товаров заполнить в ячейках A19-A25 по убыванию количества продаж. Ячейки “Количество продаж” заполнить количеством продаж каждого товара с учетом того, что 1 посетитель купил 1 единицу товара;\n",
    "3. Заполнить раздел “Предпочтения”, вычислив самые популярные и самые не востребованные товары среди мужчин и женщин. Самый популярный товар - товар с наибольшим количеством продаж. Самый невостребованный - с наименьшим."
   ]
  },
  {
   "cell_type": "code",
   "execution_count": 4,
   "id": "2f2ed069",
   "metadata": {
    "scrolled": true
   },
   "outputs": [
    {
     "data": {
      "text/plain": [
       "['IP-адрес',\n",
       " 'Пол',\n",
       " 'Возраст',\n",
       " 'Браузер',\n",
       " 'Версия браузера',\n",
       " 'Время на сайте',\n",
       " 'Дата посещения',\n",
       " 'Купленные товары']"
      ]
     },
     "execution_count": 4,
     "metadata": {},
     "output_type": "execute_result"
    }
   ],
   "source": [
    "df = pd.read_excel('logs.xlsx', sheet_name='log')\n",
    "list(df)\n",
    "# df[['Браузер', 'Дата посещения']]\n"
   ]
  },
  {
   "cell_type": "code",
   "execution_count": 5,
   "id": "ff7c8255",
   "metadata": {},
   "outputs": [
    {
     "name": "stdout",
     "output_type": "stream",
     "text": [
      "[('Яндекс: мобильное приложение', 33), ('Яндекс.Браузер', 13), ('Chrome Mobile', 11), ('Google Chrome', 10), ('Android Browser', 9), ('Mobile Safari', 8), ('Opera', 4)]\n"
     ]
    }
   ],
   "source": [
    "browser_month_sessions = {}\n",
    "session_counter = collections.Counter(df['Браузер'])\n",
    "\n",
    "# for session in excel_df['Браузер']:\n",
    "print(session_counter.most_common(7))\n"
   ]
  },
  {
   "cell_type": "code",
   "execution_count": 10,
   "id": "224a7f88",
   "metadata": {
    "scrolled": false
   },
   "outputs": [
    {
     "name": "stdout",
     "output_type": "stream",
     "text": [
      "Дата посещения\n",
      "April        9\n",
      "February    11\n",
      "January     12\n",
      "July        15\n",
      "June        11\n",
      "March       18\n",
      "May         23\n",
      "Name: Браузер, dtype: int64\n"
     ]
    }
   ],
   "source": [
    "df[\"Дата посещения\"] = pd.to_datetime(df[\"Дата посещения\"])\n",
    "\n",
    "# print(df.dtypes)\n",
    "ffs = df.groupby(df['Дата посещения'].dt.strftime('%B'))['Браузер'].count()\n",
    "print(ffs)\n",
    "# ffg = df.groupby(['Браузер', pd.Grouper(key='Дата посещения', freq='M')])['Браузер'].count()"
   ]
  },
  {
   "cell_type": "code",
   "execution_count": 15,
   "id": "13601bcd",
   "metadata": {},
   "outputs": [
    {
     "name": "stdout",
     "output_type": "stream",
     "text": [
      "Дата посещения\n",
      "1    12\n",
      "2    11\n",
      "3    18\n",
      "4     9\n",
      "5    23\n",
      "6    11\n",
      "7    15\n",
      "Name: Браузер, dtype: int64\n"
     ]
    }
   ],
   "source": [
    "ggs = df.groupby(df['Дата посещения'].dt.month)['Браузер'].count()\n",
    "pprint(ggs)"
   ]
  },
  {
   "cell_type": "code",
   "execution_count": 30,
   "id": "fbdc871e",
   "metadata": {},
   "outputs": [],
   "source": [
    "df_dict = {k:v.reset_index(name='Браузер') for k,v in df.groupby([pd.Grouper(freq='M', key='Дата посещения'),\n",
    "                                   'Пол'])['Браузер'].count().groupby(level=1)}\n",
    "\n",
    "# df_dict = {k:v.(name='Дата посещения') for k,v in df.groupby([pd.Grouper(key='Браузер')])\n",
    "#                                                                    ['Браузер'].count().groupby(level=0)}\n",
    "res = df.groupby([pd.Grouper(key='Дата посещения',freq='M'), \"Браузер\"])[\"Дата посещения\"].count()\n",
    "res_1 = res.to_dict()\n"
   ]
  },
  {
   "cell_type": "code",
   "execution_count": 38,
   "id": "706241ee",
   "metadata": {},
   "outputs": [
    {
     "data": {
      "text/plain": [
       "{(Timestamp('2020-01-31 00:00:00'), 'Android Browser'): 1,\n",
       " (Timestamp('2020-01-31 00:00:00'), 'Google Chrome'): 3,\n",
       " (Timestamp('2020-01-31 00:00:00'), 'Mobile Safari'): 1,\n",
       " (Timestamp('2020-01-31 00:00:00'), 'Яндекс.Браузер'): 3,\n",
       " (Timestamp('2020-01-31 00:00:00'), 'Яндекс: мобильное приложение'): 4,\n",
       " (Timestamp('2020-02-29 00:00:00'), 'Android Browser'): 1,\n",
       " (Timestamp('2020-02-29 00:00:00'), 'Firefox Mobile'): 1,\n",
       " (Timestamp('2020-02-29 00:00:00'), 'MIUI'): 1,\n",
       " (Timestamp('2020-02-29 00:00:00'), 'Mobile Safari'): 1,\n",
       " (Timestamp('2020-02-29 00:00:00'), 'Opera'): 1,\n",
       " (Timestamp('2020-02-29 00:00:00'), 'Samsung Internet'): 1,\n",
       " (Timestamp('2020-02-29 00:00:00'), 'Яндекс: мобильное приложение'): 5,\n",
       " (Timestamp('2020-03-31 00:00:00'), 'Android Browser'): 4,\n",
       " (Timestamp('2020-03-31 00:00:00'), 'Chrome Mobile'): 1,\n",
       " (Timestamp('2020-03-31 00:00:00'), 'Edge'): 1,\n",
       " (Timestamp('2020-03-31 00:00:00'), 'Firefox'): 1,\n",
       " (Timestamp('2020-03-31 00:00:00'), 'Google Chrome'): 2,\n",
       " (Timestamp('2020-03-31 00:00:00'), 'Mobile Safari'): 1,\n",
       " (Timestamp('2020-03-31 00:00:00'), 'Opera'): 1,\n",
       " (Timestamp('2020-03-31 00:00:00'), 'Яндекс.Браузер'): 2,\n",
       " (Timestamp('2020-03-31 00:00:00'), 'Яндекс: мобильное приложение'): 5,\n",
       " (Timestamp('2020-04-30 00:00:00'), 'Chrome Mobile'): 2,\n",
       " (Timestamp('2020-04-30 00:00:00'), 'Google Chrome'): 2,\n",
       " (Timestamp('2020-04-30 00:00:00'), 'Mobile Safari'): 1,\n",
       " (Timestamp('2020-04-30 00:00:00'), 'Opera Mobile'): 1,\n",
       " (Timestamp('2020-04-30 00:00:00'), 'Яндекс.Браузер'): 1,\n",
       " (Timestamp('2020-04-30 00:00:00'), 'Яндекс: мобильное приложение'): 2,\n",
       " (Timestamp('2020-05-31 00:00:00'), 'Android Browser'): 1,\n",
       " (Timestamp('2020-05-31 00:00:00'), 'Chrome Mobile'): 4,\n",
       " (Timestamp('2020-05-31 00:00:00'), 'Firefox'): 1,\n",
       " (Timestamp('2020-05-31 00:00:00'), 'Google Chrome'): 1,\n",
       " (Timestamp('2020-05-31 00:00:00'), 'Huawei Browser'): 1,\n",
       " (Timestamp('2020-05-31 00:00:00'), 'MSIE'): 1,\n",
       " (Timestamp('2020-05-31 00:00:00'), 'Mobile Safari'): 2,\n",
       " (Timestamp('2020-05-31 00:00:00'), 'Opera'): 1,\n",
       " (Timestamp('2020-05-31 00:00:00'), 'Яндекс.Браузер'): 3,\n",
       " (Timestamp('2020-05-31 00:00:00'), 'Яндекс: мобильное приложение'): 8,\n",
       " (Timestamp('2020-06-30 00:00:00'), 'Android Browser'): 1,\n",
       " (Timestamp('2020-06-30 00:00:00'), 'Chrome Mobile'): 1,\n",
       " (Timestamp('2020-06-30 00:00:00'), 'Google Chrome'): 1,\n",
       " (Timestamp('2020-06-30 00:00:00'), 'MSIE'): 1,\n",
       " (Timestamp('2020-06-30 00:00:00'), 'Mobile Safari'): 1,\n",
       " (Timestamp('2020-06-30 00:00:00'), 'Яндекс.Браузер'): 1,\n",
       " (Timestamp('2020-06-30 00:00:00'), 'Яндекс: мобильное приложение'): 5,\n",
       " (Timestamp('2020-07-31 00:00:00'), 'Android Browser'): 1,\n",
       " (Timestamp('2020-07-31 00:00:00'), 'Chrome Mobile'): 3,\n",
       " (Timestamp('2020-07-31 00:00:00'), 'Google Chrome'): 1,\n",
       " (Timestamp('2020-07-31 00:00:00'), 'Mobile Safari'): 1,\n",
       " (Timestamp('2020-07-31 00:00:00'), 'Opera'): 1,\n",
       " (Timestamp('2020-07-31 00:00:00'), 'Safari'): 1,\n",
       " (Timestamp('2020-07-31 00:00:00'), 'Яндекс.Браузер'): 3,\n",
       " (Timestamp('2020-07-31 00:00:00'), 'Яндекс: мобильное приложение'): 4}"
      ]
     },
     "execution_count": 38,
     "metadata": {},
     "output_type": "execute_result"
    }
   ],
   "source": [
    "res_1"
   ]
  },
  {
   "cell_type": "code",
   "execution_count": 391,
   "id": "779e5cbe",
   "metadata": {},
   "outputs": [
    {
     "name": "stdout",
     "output_type": "stream",
     "text": [
      "[('Сменный ремешок для Xiaomi Mi Band 4 и Mi Band 3 Черный,Силиконовый ремешок для фитнес-браслета Xiaomi Mi Band 3 ,ArtSpace Набор обложек для дневников и тетрадей 208х346 мм', 1), ('Защитное стекло FULL GLUE стекло для Apple iPhone 11 ,Защитное стекло 5D для Samsung Galaxy A31 ,Berlingo Мешок для обуви Challenge (MS09239) черный', 1)]\n",
      "('Сменный ремешок для Xiaomi Mi Band 4 и Mi Band 3 Черный,Силиконовый ремешок для фитнес-браслета Xiaomi Mi Band 3 ,ArtSpace Набор обложек для дневников и тетрадей 208х346 мм', 1)\n"
     ]
    }
   ],
   "source": [
    "goods_list = []\n",
    "goods_list = df['Купленные товары'].tolist()\n",
    "common_goods = collections.Counter(goods_list)\n",
    "print(common_goods.most_common(2))\n",
    "print(common_goods.most_common(1)[-1])\n",
    "\n"
   ]
  },
  {
   "cell_type": "code",
   "execution_count": 166,
   "id": "faf1598c",
   "metadata": {},
   "outputs": [
    {
     "ename": "IndexError",
     "evalue": "index 6 is out of bounds for axis 0 with size 6",
     "output_type": "error",
     "traceback": [
      "\u001b[1;31m---------------------------------------------------------------------------\u001b[0m",
      "\u001b[1;31mIndexError\u001b[0m                                Traceback (most recent call last)",
      "Input \u001b[1;32mIn [166]\u001b[0m, in \u001b[0;36m<module>\u001b[1;34m\u001b[0m\n\u001b[0;32m     11\u001b[0m         ws[\u001b[38;5;124mf\u001b[39m\u001b[38;5;124m'\u001b[39m\u001b[38;5;124mF\u001b[39m\u001b[38;5;132;01m{\u001b[39;00mrow\u001b[38;5;132;01m}\u001b[39;00m\u001b[38;5;124m'\u001b[39m] \u001b[38;5;241m=\u001b[39m ffg[browser[\u001b[38;5;241m0\u001b[39m]][\u001b[38;5;241m4\u001b[39m]\n\u001b[0;32m     12\u001b[0m         ws[\u001b[38;5;124mf\u001b[39m\u001b[38;5;124m'\u001b[39m\u001b[38;5;124mG\u001b[39m\u001b[38;5;132;01m{\u001b[39;00mrow\u001b[38;5;132;01m}\u001b[39;00m\u001b[38;5;124m'\u001b[39m] \u001b[38;5;241m=\u001b[39m ffg[browser[\u001b[38;5;241m0\u001b[39m]][\u001b[38;5;241m5\u001b[39m]\n\u001b[1;32m---> 13\u001b[0m         ws[\u001b[38;5;124mf\u001b[39m\u001b[38;5;124m'\u001b[39m\u001b[38;5;124mH\u001b[39m\u001b[38;5;132;01m{\u001b[39;00mrow\u001b[38;5;132;01m}\u001b[39;00m\u001b[38;5;124m'\u001b[39m] \u001b[38;5;241m=\u001b[39m \u001b[43mffg\u001b[49m\u001b[43m[\u001b[49m\u001b[43mbrowser\u001b[49m\u001b[43m[\u001b[49m\u001b[38;5;241;43m0\u001b[39;49m\u001b[43m]\u001b[49m\u001b[43m]\u001b[49m\u001b[43m[\u001b[49m\u001b[38;5;241;43m6\u001b[39;49m\u001b[43m]\u001b[49m\n\u001b[0;32m     14\u001b[0m     i \u001b[38;5;241m+\u001b[39m\u001b[38;5;241m=\u001b[39m \u001b[38;5;241m1\u001b[39m\n\u001b[0;32m     16\u001b[0m wb\u001b[38;5;241m.\u001b[39msave(\u001b[38;5;124m'\u001b[39m\u001b[38;5;124m111.xlsx\u001b[39m\u001b[38;5;124m'\u001b[39m)\n",
      "File \u001b[1;32md:\\program files\\python\\lib\\site-packages\\pandas\\core\\series.py:939\u001b[0m, in \u001b[0;36mSeries.__getitem__\u001b[1;34m(self, key)\u001b[0m\n\u001b[0;32m    936\u001b[0m     key \u001b[38;5;241m=\u001b[39m unpack_1tuple(key)\n\u001b[0;32m    938\u001b[0m \u001b[38;5;28;01mif\u001b[39;00m is_integer(key) \u001b[38;5;129;01mand\u001b[39;00m \u001b[38;5;28mself\u001b[39m\u001b[38;5;241m.\u001b[39mindex\u001b[38;5;241m.\u001b[39m_should_fallback_to_positional():\n\u001b[1;32m--> 939\u001b[0m     \u001b[38;5;28;01mreturn\u001b[39;00m \u001b[38;5;28;43mself\u001b[39;49m\u001b[38;5;241;43m.\u001b[39;49m\u001b[43m_values\u001b[49m\u001b[43m[\u001b[49m\u001b[43mkey\u001b[49m\u001b[43m]\u001b[49m\n\u001b[0;32m    941\u001b[0m \u001b[38;5;28;01melif\u001b[39;00m key_is_scalar:\n\u001b[0;32m    942\u001b[0m     \u001b[38;5;28;01mreturn\u001b[39;00m \u001b[38;5;28mself\u001b[39m\u001b[38;5;241m.\u001b[39m_get_value(key)\n",
      "\u001b[1;31mIndexError\u001b[0m: index 6 is out of bounds for axis 0 with size 6"
     ]
    }
   ],
   "source": [
    "wb = openpyxl.load_workbook(filename='report_template.xlsx', data_only=True)\n",
    "ws = wb.active\n",
    "i = 0\n",
    "for row in range(5, 12):\n",
    "    ws[f'A{row}'] = session_counter.most_common(7)[i][0]\n",
    "    for browser in session_counter.most_common(i+1):\n",
    "        ws[f'B{row}'] = ffg[browser[0]][0]\n",
    "        ws[f'C{row}'] = ffg[browser[0]][1]\n",
    "        ws[f'D{row}'] = ffg[browser[0]][2]\n",
    "        ws[f'E{row}'] = ffg[browser[0]][3]\n",
    "        ws[f'F{row}'] = ffg[browser[0]][4]\n",
    "        ws[f'G{row}'] = ffg[browser[0]][5]\n",
    "        ws[f'H{row}'] = ffg[browser[0]][6]\n",
    "    i += 1\n",
    "\n",
    "wb.save('111.xlsx')\n"
   ]
  },
  {
   "cell_type": "code",
   "execution_count": 212,
   "id": "fd00a0ed",
   "metadata": {},
   "outputs": [],
   "source": [
    "def make_report(log_file_name, report_template_file, report_output_file_name):\n",
    "    '''\n",
    "    :param log_file_name: Имя файла логов\n",
    "    :param report_template_file: имя файла-шаблона для отчета\n",
    "    :param report_output_file_name: имя файла отчета\n",
    "    :return: создает отчет в формате report.xlsx\n",
    "    '''\n",
    "    # Чтение и анализ данных из файла excel\n",
    "    df = pd.read_excel('logs.xlsx', sheet_name='log')\n",
    "    session_counter = collections.Counter(excel_df['Браузер'])\n",
    "    grouped_by_month = df.groupby(['Браузер', pd.Grouper(key='Дата посещения', freq='M')])['Браузер'].count()\n",
    "    \n",
    "    # Открываем файл шаблона отчета report_template.xlsx\n",
    "    wb = load_workbook(filename=report_template_file_name, data_only=True)\n",
    "    ws = wb.active\n",
    "    \n",
    "    # Выполняем запись данных в объект wb\n",
    "    i = 0\n",
    "    for row in range(5, 12):\n",
    "        ws[f'A{row}'] = session_counter.most_common(7)[i][0]\n",
    "        for browser in session_counter.most_common(i+1):\n",
    "            ws[f'B{row}'] = grouped_by_month[browser[0]][0]\n",
    "            ws[f'C{row}'] = grouped_by_month[browser[0]][1]\n",
    "            ws[f'D{row}'] = grouped_by_month[browser[0]][2]\n",
    "            ws[f'E{row}'] = grouped_by_month[browser[0]][3]\n",
    "            ws[f'F{row}'] = grouped_by_month[browser[0]][4]\n",
    "            ws[f'G{row}'] = grouped_by_month[browser[0]][5]\n",
    "            ws[f'H{row}'] = grouped_by_month[browser[0]][6]\n",
    "        i += 1\n",
    "\n",
    "    \n",
    "    # Сохраняем файл отчета"
   ]
  }
 ],
 "metadata": {
  "kernelspec": {
   "display_name": "Python 3 (ipykernel)",
   "language": "python",
   "name": "python3"
  },
  "language_info": {
   "codemirror_mode": {
    "name": "ipython",
    "version": 3
   },
   "file_extension": ".py",
   "mimetype": "text/x-python",
   "name": "python",
   "nbconvert_exporter": "python",
   "pygments_lexer": "ipython3",
   "version": "3.9.6"
  }
 },
 "nbformat": 4,
 "nbformat_minor": 5
}
