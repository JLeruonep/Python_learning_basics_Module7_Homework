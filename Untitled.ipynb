{
 "cells": [
  {
   "cell_type": "code",
   "execution_count": 216,
   "id": "bc96926b",
   "metadata": {},
   "outputs": [],
   "source": [
    "import pandas as pd\n",
    "import collections\n",
    "import openpyxl"
   ]
  },
  {
   "cell_type": "markdown",
   "id": "a5ddd801",
   "metadata": {},
   "source": [
    "Необходимо вычислить:\n",
    "\n",
    "1. 7 самых популярных браузеров по посещаемости. Одна строка в журнале логов - это одно посещение. Названия браузеров заполнить в ячейках A5-A11 по убыванию итогового количества посещений для браузера. В ячейке A5 должно быть название браузера, у которого больше всего посещений, в ячейке A11 - название браузера, у которого меньше всего посещений.  Ячейки “Количество посещений” заполнить количеством посещений для каждого браузера по месяцам;\n",
    "2. 7 самых популярных товаров. Товары находятся в колонке “Купленные товары” в файле logs. Каждая строка логов содержит несколько товаров, разделитель - запятая. Названия товаров заполнить в ячейках A19-A25 по убыванию количества продаж. Ячейки “Количество продаж” заполнить количеством продаж каждого товара с учетом того, что 1 посетитель купил 1 единицу товара;\n",
    "3. Заполнить раздел “Предпочтения”, вычислив самые популярные и самые не востребованные товары среди мужчин и женщин. Самый популярный товар - товар с наибольшим количеством продаж. Самый невостребованный - с наименьшим."
   ]
  },
  {
   "cell_type": "code",
   "execution_count": 330,
   "id": "2f2ed069",
   "metadata": {
    "scrolled": true
   },
   "outputs": [
    {
     "data": {
      "text/plain": [
       "['IP-адрес',\n",
       " 'Пол',\n",
       " 'Возраст',\n",
       " 'Браузер',\n",
       " 'Версия браузера',\n",
       " 'Время на сайте',\n",
       " 'Дата посещения',\n",
       " 'Купленные товары']"
      ]
     },
     "execution_count": 330,
     "metadata": {},
     "output_type": "execute_result"
    }
   ],
   "source": [
    "df = pd.read_excel('logs.xlsx', sheet_name='log')\n",
    "report_temp = pd.read_excel('report_template.xlsx')\n",
    "list(df)\n",
    "# excel_df[['Браузер', 'Дата посещения']]\n"
   ]
  },
  {
   "cell_type": "code",
   "execution_count": 326,
   "id": "ff7c8255",
   "metadata": {},
   "outputs": [
    {
     "name": "stdout",
     "output_type": "stream",
     "text": [
      "[('Яндекс: мобильное приложение', 457), ('Яндекс.Браузер', 241), ('Chrome Mobile', 186), ('Google Chrome', 161), ('Android Browser', 144), ('Mobile Safari', 91), ('Opera', 56)]\n"
     ]
    }
   ],
   "source": [
    "browser_month_sessions = {}\n",
    "session_counter = collections.Counter(excel_df['Браузер'])\n",
    "\n",
    "# for session in excel_df['Браузер']:\n",
    "print(session_counter.most_common(7))\n"
   ]
  },
  {
   "cell_type": "code",
   "execution_count": 327,
   "id": "224a7f88",
   "metadata": {
    "scrolled": true
   },
   "outputs": [
    {
     "name": "stdout",
     "output_type": "stream",
     "text": [
      "1\n",
      "Яндекс: мобильное приложение\n"
     ]
    },
    {
     "ename": "KeyError",
     "evalue": "'Яндекс.Браузер'",
     "output_type": "error",
     "traceback": [
      "\u001b[1;31m---------------------------------------------------------------------------\u001b[0m",
      "\u001b[1;31mKeyError\u001b[0m                                  Traceback (most recent call last)",
      "File \u001b[1;32md:\\program files\\python\\lib\\site-packages\\pandas\\core\\indexes\\base.py:3361\u001b[0m, in \u001b[0;36mIndex.get_loc\u001b[1;34m(self, key, method, tolerance)\u001b[0m\n\u001b[0;32m   3360\u001b[0m \u001b[38;5;28;01mtry\u001b[39;00m:\n\u001b[1;32m-> 3361\u001b[0m     \u001b[38;5;28;01mreturn\u001b[39;00m \u001b[38;5;28;43mself\u001b[39;49m\u001b[38;5;241;43m.\u001b[39;49m\u001b[43m_engine\u001b[49m\u001b[38;5;241;43m.\u001b[39;49m\u001b[43mget_loc\u001b[49m\u001b[43m(\u001b[49m\u001b[43mcasted_key\u001b[49m\u001b[43m)\u001b[49m\n\u001b[0;32m   3362\u001b[0m \u001b[38;5;28;01mexcept\u001b[39;00m \u001b[38;5;167;01mKeyError\u001b[39;00m \u001b[38;5;28;01mas\u001b[39;00m err:\n",
      "File \u001b[1;32md:\\program files\\python\\lib\\site-packages\\pandas\\_libs\\index.pyx:76\u001b[0m, in \u001b[0;36mpandas._libs.index.IndexEngine.get_loc\u001b[1;34m()\u001b[0m\n",
      "File \u001b[1;32md:\\program files\\python\\lib\\site-packages\\pandas\\_libs\\index.pyx:108\u001b[0m, in \u001b[0;36mpandas._libs.index.IndexEngine.get_loc\u001b[1;34m()\u001b[0m\n",
      "File \u001b[1;32mpandas\\_libs\\hashtable_class_helper.pxi:5198\u001b[0m, in \u001b[0;36mpandas._libs.hashtable.PyObjectHashTable.get_item\u001b[1;34m()\u001b[0m\n",
      "File \u001b[1;32mpandas\\_libs\\hashtable_class_helper.pxi:5206\u001b[0m, in \u001b[0;36mpandas._libs.hashtable.PyObjectHashTable.get_item\u001b[1;34m()\u001b[0m\n",
      "\u001b[1;31mKeyError\u001b[0m: 'Яндекс.Браузер'",
      "\nThe above exception was the direct cause of the following exception:\n",
      "\u001b[1;31mKeyError\u001b[0m                                  Traceback (most recent call last)",
      "Input \u001b[1;32mIn [327]\u001b[0m, in \u001b[0;36m<module>\u001b[1;34m\u001b[0m\n\u001b[0;32m      6\u001b[0m ffg \u001b[38;5;241m=\u001b[39m df\u001b[38;5;241m.\u001b[39mgroupby([\u001b[38;5;124m'\u001b[39m\u001b[38;5;124mБраузер\u001b[39m\u001b[38;5;124m'\u001b[39m, pd\u001b[38;5;241m.\u001b[39mGrouper(key\u001b[38;5;241m=\u001b[39m\u001b[38;5;124m'\u001b[39m\u001b[38;5;124mДата посещения\u001b[39m\u001b[38;5;124m'\u001b[39m, freq\u001b[38;5;241m=\u001b[39m\u001b[38;5;124m'\u001b[39m\u001b[38;5;124mM\u001b[39m\u001b[38;5;124m'\u001b[39m)])[\u001b[38;5;124m'\u001b[39m\u001b[38;5;124mБраузер\u001b[39m\u001b[38;5;124m'\u001b[39m]\u001b[38;5;241m.\u001b[39mcount()\n\u001b[0;32m      7\u001b[0m \u001b[38;5;28;01mfor\u001b[39;00m browser \u001b[38;5;129;01min\u001b[39;00m session_counter\u001b[38;5;241m.\u001b[39mmost_common(\u001b[38;5;241m7\u001b[39m):\n\u001b[1;32m----> 8\u001b[0m     \u001b[38;5;28mprint\u001b[39m(\u001b[43mffg\u001b[49m\u001b[43m[\u001b[49m\u001b[43mbrowser\u001b[49m\u001b[43m[\u001b[49m\u001b[38;5;241;43m0\u001b[39;49m\u001b[43m]\u001b[49m\u001b[43m]\u001b[49m[\u001b[38;5;241m0\u001b[39m])\n\u001b[0;32m      9\u001b[0m     \u001b[38;5;28mprint\u001b[39m(browser[\u001b[38;5;241m0\u001b[39m])\n",
      "File \u001b[1;32md:\\program files\\python\\lib\\site-packages\\pandas\\core\\series.py:942\u001b[0m, in \u001b[0;36mSeries.__getitem__\u001b[1;34m(self, key)\u001b[0m\n\u001b[0;32m    939\u001b[0m     \u001b[38;5;28;01mreturn\u001b[39;00m \u001b[38;5;28mself\u001b[39m\u001b[38;5;241m.\u001b[39m_values[key]\n\u001b[0;32m    941\u001b[0m \u001b[38;5;28;01melif\u001b[39;00m key_is_scalar:\n\u001b[1;32m--> 942\u001b[0m     \u001b[38;5;28;01mreturn\u001b[39;00m \u001b[38;5;28;43mself\u001b[39;49m\u001b[38;5;241;43m.\u001b[39;49m\u001b[43m_get_value\u001b[49m\u001b[43m(\u001b[49m\u001b[43mkey\u001b[49m\u001b[43m)\u001b[49m\n\u001b[0;32m    944\u001b[0m \u001b[38;5;28;01mif\u001b[39;00m is_hashable(key):\n\u001b[0;32m    945\u001b[0m     \u001b[38;5;66;03m# Otherwise index.get_value will raise InvalidIndexError\u001b[39;00m\n\u001b[0;32m    946\u001b[0m     \u001b[38;5;28;01mtry\u001b[39;00m:\n\u001b[0;32m    947\u001b[0m         \u001b[38;5;66;03m# For labels that don't resolve as scalars like tuples and frozensets\u001b[39;00m\n",
      "File \u001b[1;32md:\\program files\\python\\lib\\site-packages\\pandas\\core\\series.py:1051\u001b[0m, in \u001b[0;36mSeries._get_value\u001b[1;34m(self, label, takeable)\u001b[0m\n\u001b[0;32m   1048\u001b[0m     \u001b[38;5;28;01mreturn\u001b[39;00m \u001b[38;5;28mself\u001b[39m\u001b[38;5;241m.\u001b[39m_values[label]\n\u001b[0;32m   1050\u001b[0m \u001b[38;5;66;03m# Similar to Index.get_value, but we do not fall back to positional\u001b[39;00m\n\u001b[1;32m-> 1051\u001b[0m loc \u001b[38;5;241m=\u001b[39m \u001b[38;5;28;43mself\u001b[39;49m\u001b[38;5;241;43m.\u001b[39;49m\u001b[43mindex\u001b[49m\u001b[38;5;241;43m.\u001b[39;49m\u001b[43mget_loc\u001b[49m\u001b[43m(\u001b[49m\u001b[43mlabel\u001b[49m\u001b[43m)\u001b[49m\n\u001b[0;32m   1052\u001b[0m \u001b[38;5;28;01mreturn\u001b[39;00m \u001b[38;5;28mself\u001b[39m\u001b[38;5;241m.\u001b[39mindex\u001b[38;5;241m.\u001b[39m_get_values_for_loc(\u001b[38;5;28mself\u001b[39m, loc, label)\n",
      "File \u001b[1;32md:\\program files\\python\\lib\\site-packages\\pandas\\core\\indexes\\multi.py:2922\u001b[0m, in \u001b[0;36mMultiIndex.get_loc\u001b[1;34m(self, key, method)\u001b[0m\n\u001b[0;32m   2919\u001b[0m     \u001b[38;5;28;01mreturn\u001b[39;00m mask\n\u001b[0;32m   2921\u001b[0m \u001b[38;5;28;01mif\u001b[39;00m \u001b[38;5;129;01mnot\u001b[39;00m \u001b[38;5;28misinstance\u001b[39m(key, \u001b[38;5;28mtuple\u001b[39m):\n\u001b[1;32m-> 2922\u001b[0m     loc \u001b[38;5;241m=\u001b[39m \u001b[38;5;28;43mself\u001b[39;49m\u001b[38;5;241;43m.\u001b[39;49m\u001b[43m_get_level_indexer\u001b[49m\u001b[43m(\u001b[49m\u001b[43mkey\u001b[49m\u001b[43m,\u001b[49m\u001b[43m \u001b[49m\u001b[43mlevel\u001b[49m\u001b[38;5;241;43m=\u001b[39;49m\u001b[38;5;241;43m0\u001b[39;49m\u001b[43m)\u001b[49m\n\u001b[0;32m   2923\u001b[0m     \u001b[38;5;28;01mreturn\u001b[39;00m _maybe_to_slice(loc)\n\u001b[0;32m   2925\u001b[0m keylen \u001b[38;5;241m=\u001b[39m \u001b[38;5;28mlen\u001b[39m(key)\n",
      "File \u001b[1;32md:\\program files\\python\\lib\\site-packages\\pandas\\core\\indexes\\multi.py:3204\u001b[0m, in \u001b[0;36mMultiIndex._get_level_indexer\u001b[1;34m(self, key, level, indexer)\u001b[0m\n\u001b[0;32m   3200\u001b[0m         \u001b[38;5;28;01mreturn\u001b[39;00m \u001b[38;5;28mslice\u001b[39m(i, j, step)\n\u001b[0;32m   3202\u001b[0m \u001b[38;5;28;01melse\u001b[39;00m:\n\u001b[1;32m-> 3204\u001b[0m     idx \u001b[38;5;241m=\u001b[39m \u001b[38;5;28;43mself\u001b[39;49m\u001b[38;5;241;43m.\u001b[39;49m\u001b[43m_get_loc_single_level_index\u001b[49m\u001b[43m(\u001b[49m\u001b[43mlevel_index\u001b[49m\u001b[43m,\u001b[49m\u001b[43m \u001b[49m\u001b[43mkey\u001b[49m\u001b[43m)\u001b[49m\n\u001b[0;32m   3206\u001b[0m     \u001b[38;5;28;01mif\u001b[39;00m level \u001b[38;5;241m>\u001b[39m \u001b[38;5;241m0\u001b[39m \u001b[38;5;129;01mor\u001b[39;00m \u001b[38;5;28mself\u001b[39m\u001b[38;5;241m.\u001b[39m_lexsort_depth \u001b[38;5;241m==\u001b[39m \u001b[38;5;241m0\u001b[39m:\n\u001b[0;32m   3207\u001b[0m         \u001b[38;5;66;03m# Desired level is not sorted\u001b[39;00m\n\u001b[0;32m   3208\u001b[0m         locs \u001b[38;5;241m=\u001b[39m np\u001b[38;5;241m.\u001b[39marray(level_codes \u001b[38;5;241m==\u001b[39m idx, dtype\u001b[38;5;241m=\u001b[39m\u001b[38;5;28mbool\u001b[39m, copy\u001b[38;5;241m=\u001b[39m\u001b[38;5;28;01mFalse\u001b[39;00m)\n",
      "File \u001b[1;32md:\\program files\\python\\lib\\site-packages\\pandas\\core\\indexes\\multi.py:2855\u001b[0m, in \u001b[0;36mMultiIndex._get_loc_single_level_index\u001b[1;34m(self, level_index, key)\u001b[0m\n\u001b[0;32m   2853\u001b[0m     \u001b[38;5;28;01mreturn\u001b[39;00m \u001b[38;5;241m-\u001b[39m\u001b[38;5;241m1\u001b[39m\n\u001b[0;32m   2854\u001b[0m \u001b[38;5;28;01melse\u001b[39;00m:\n\u001b[1;32m-> 2855\u001b[0m     \u001b[38;5;28;01mreturn\u001b[39;00m \u001b[43mlevel_index\u001b[49m\u001b[38;5;241;43m.\u001b[39;49m\u001b[43mget_loc\u001b[49m\u001b[43m(\u001b[49m\u001b[43mkey\u001b[49m\u001b[43m)\u001b[49m\n",
      "File \u001b[1;32md:\\program files\\python\\lib\\site-packages\\pandas\\core\\indexes\\base.py:3363\u001b[0m, in \u001b[0;36mIndex.get_loc\u001b[1;34m(self, key, method, tolerance)\u001b[0m\n\u001b[0;32m   3361\u001b[0m         \u001b[38;5;28;01mreturn\u001b[39;00m \u001b[38;5;28mself\u001b[39m\u001b[38;5;241m.\u001b[39m_engine\u001b[38;5;241m.\u001b[39mget_loc(casted_key)\n\u001b[0;32m   3362\u001b[0m     \u001b[38;5;28;01mexcept\u001b[39;00m \u001b[38;5;167;01mKeyError\u001b[39;00m \u001b[38;5;28;01mas\u001b[39;00m err:\n\u001b[1;32m-> 3363\u001b[0m         \u001b[38;5;28;01mraise\u001b[39;00m \u001b[38;5;167;01mKeyError\u001b[39;00m(key) \u001b[38;5;28;01mfrom\u001b[39;00m \u001b[38;5;21;01merr\u001b[39;00m\n\u001b[0;32m   3365\u001b[0m \u001b[38;5;28;01mif\u001b[39;00m is_scalar(key) \u001b[38;5;129;01mand\u001b[39;00m isna(key) \u001b[38;5;129;01mand\u001b[39;00m \u001b[38;5;129;01mnot\u001b[39;00m \u001b[38;5;28mself\u001b[39m\u001b[38;5;241m.\u001b[39mhasnans:\n\u001b[0;32m   3366\u001b[0m     \u001b[38;5;28;01mraise\u001b[39;00m \u001b[38;5;167;01mKeyError\u001b[39;00m(key)\n",
      "\u001b[1;31mKeyError\u001b[0m: 'Яндекс.Браузер'"
     ]
    }
   ],
   "source": [
    "excel_df[\"Дата посещения\"] = pd.to_datetime(excel_df[\"Дата посещения\"])\n",
    "\n",
    "# print(excel_df.dtypes)\n",
    "# ffs = df.groupby(df['Дата посещения'].dt.strftime('%B'))['Браузер'].count()\n",
    "# print(ffs)\n",
    "ffg = df.groupby(['Браузер', pd.Grouper(key='Дата посещения', freq='M')])['Браузер'].count()\n",
    "for browser in session_counter.most_common(7):\n",
    "    print(ffg[browser[0]][0])\n",
    "    print(browser[0])"
   ]
  },
  {
   "cell_type": "code",
   "execution_count": 391,
   "id": "779e5cbe",
   "metadata": {},
   "outputs": [
    {
     "name": "stdout",
     "output_type": "stream",
     "text": [
      "[('Сменный ремешок для Xiaomi Mi Band 4 и Mi Band 3 Черный,Силиконовый ремешок для фитнес-браслета Xiaomi Mi Band 3 ,ArtSpace Набор обложек для дневников и тетрадей 208х346 мм', 1), ('Защитное стекло FULL GLUE стекло для Apple iPhone 11 ,Защитное стекло 5D для Samsung Galaxy A31 ,Berlingo Мешок для обуви Challenge (MS09239) черный', 1)]\n",
      "('Сменный ремешок для Xiaomi Mi Band 4 и Mi Band 3 Черный,Силиконовый ремешок для фитнес-браслета Xiaomi Mi Band 3 ,ArtSpace Набор обложек для дневников и тетрадей 208х346 мм', 1)\n"
     ]
    }
   ],
   "source": [
    "goods_list = []\n",
    "goods_list = df['Купленные товары'].tolist()\n",
    "common_goods = collections.Counter(goods_list)\n",
    "print(common_goods.most_common(2))\n",
    "print(common_goods.most_common(1)[-1])\n",
    "\n"
   ]
  },
  {
   "cell_type": "code",
   "execution_count": 315,
   "id": "faf1598c",
   "metadata": {},
   "outputs": [],
   "source": [
    "wb = openpyxl.load_workbook(filename='report_template.xlsx', data_only=True)\n",
    "ws = wb.active\n",
    "i = 0\n",
    "for row in range(5, 12):\n",
    "    ws[f'A{row}'] = session_counter.most_common(7)[i][0]\n",
    "    for browser in session_counter.most_common(i+1):\n",
    "        ws[f'B{row}'] = ffg[browser[0]][0]\n",
    "        ws[f'C{row}'] = ffg[browser[0]][1]\n",
    "        ws[f'D{row}'] = ffg[browser[0]][2]\n",
    "        ws[f'E{row}'] = ffg[browser[0]][3]\n",
    "        ws[f'F{row}'] = ffg[browser[0]][4]\n",
    "        ws[f'G{row}'] = ffg[browser[0]][5]\n",
    "        ws[f'H{row}'] = ffg[browser[0]][6]\n",
    "    i += 1\n",
    "\n",
    "wb.save('111.xlsx')\n"
   ]
  },
  {
   "cell_type": "code",
   "execution_count": 212,
   "id": "fd00a0ed",
   "metadata": {},
   "outputs": [],
   "source": [
    "def make_report(log_file_name, report_template_file, report_output_file_name):\n",
    "    '''\n",
    "    :param log_file_name: Имя файла логов\n",
    "    :param report_template_file: имя файла-шаблона для отчета\n",
    "    :param report_output_file_name: имя файла отчета\n",
    "    :return: создает отчет в формате report.xlsx\n",
    "    '''\n",
    "    # Чтение и анализ данных из файла excel\n",
    "    df = pd.read_excel('logs.xlsx', sheet_name='log')\n",
    "    session_counter = collections.Counter(excel_df['Браузер'])\n",
    "    grouped_by_month = df.groupby(['Браузер', pd.Grouper(key='Дата посещения', freq='M')])['Браузер'].count()\n",
    "    \n",
    "    # Открываем файл шаблона отчета report_template.xlsx\n",
    "    wb = load_workbook(filename=report_template_file_name, data_only=True)\n",
    "    ws = wb.active\n",
    "    \n",
    "    # Выполняем запись данных в объект wb\n",
    "    i = 0\n",
    "    for row in range(5, 12):\n",
    "        ws[f'A{row}'] = session_counter.most_common(7)[i][0]\n",
    "        for browser in session_counter.most_common(i+1):\n",
    "            ws[f'B{row}'] = grouped_by_month[browser[0]][0]\n",
    "            ws[f'C{row}'] = grouped_by_month[browser[0]][1]\n",
    "            ws[f'D{row}'] = grouped_by_month[browser[0]][2]\n",
    "            ws[f'E{row}'] = grouped_by_month[browser[0]][3]\n",
    "            ws[f'F{row}'] = grouped_by_month[browser[0]][4]\n",
    "            ws[f'G{row}'] = grouped_by_month[browser[0]][5]\n",
    "            ws[f'H{row}'] = grouped_by_month[browser[0]][6]\n",
    "        i += 1\n",
    "\n",
    "    \n",
    "    # Сохраняем файл отчета"
   ]
  }
 ],
 "metadata": {
  "kernelspec": {
   "display_name": "Python 3 (ipykernel)",
   "language": "python",
   "name": "python3"
  },
  "language_info": {
   "codemirror_mode": {
    "name": "ipython",
    "version": 3
   },
   "file_extension": ".py",
   "mimetype": "text/x-python",
   "name": "python",
   "nbconvert_exporter": "python",
   "pygments_lexer": "ipython3",
   "version": "3.9.6"
  }
 },
 "nbformat": 4,
 "nbformat_minor": 5
}
