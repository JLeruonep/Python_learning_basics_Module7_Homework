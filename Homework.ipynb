{
 "cells": [
  {
   "cell_type": "code",
   "execution_count": 1,
   "id": "bc96926b",
   "metadata": {},
   "outputs": [],
   "source": [
    "import collections\n",
    "import openpyxl\n",
    "import pandas as pd\n",
    "\n",
    "from pprint import pprint"
   ]
  },
  {
   "cell_type": "code",
   "execution_count": 2,
   "id": "c6bcd985",
   "metadata": {},
   "outputs": [],
   "source": [
    "MONTH_COLLECTION =(\n",
    "   {1:'January',\n",
    "    2:'February',\n",
    "    3:'March',\n",
    "    4:'April',\n",
    "    5:'May',\n",
    "    6:'June',\n",
    "    7:'July',\n",
    "    8:'August',\n",
    "    9:'September',\n",
    "    10:'October',\n",
    "    11:'November',\n",
    "    12:'December'}\n",
    ")"
   ]
  },
  {
   "cell_type": "markdown",
   "id": "a5ddd801",
   "metadata": {},
   "source": [
    "Необходимо вычислить:\n",
    "\n",
    "1. 7 самых популярных браузеров по посещаемости. Одна строка в журнале логов - это одно посещение. Названия браузеров заполнить в ячейках A5-A11 по убыванию итогового количества посещений для браузера. В ячейке A5 должно быть название браузера, у которого больше всего посещений, в ячейке A11 - название браузера, у которого меньше всего посещений.  Ячейки “Количество посещений” заполнить количеством посещений для каждого браузера по месяцам;\n",
    "2. 7 самых популярных товаров. Товары находятся в колонке “Купленные товары” в файле logs. Каждая строка логов содержит несколько товаров, разделитель - запятая. Названия товаров заполнить в ячейках A19-A25 по убыванию количества продаж. Ячейки “Количество продаж” заполнить количеством продаж каждого товара с учетом того, что 1 посетитель купил 1 единицу товара;\n",
    "3. Заполнить раздел “Предпочтения”, вычислив самые популярные и самые не востребованные товары среди мужчин и женщин. Самый популярный товар - товар с наибольшим количеством продаж. Самый невостребованный - с наименьшим."
   ]
  },
  {
   "cell_type": "code",
   "execution_count": 3,
   "id": "2f2ed069",
   "metadata": {
    "scrolled": true
   },
   "outputs": [
    {
     "data": {
      "text/plain": [
       "['IP-адрес',\n",
       " 'Пол',\n",
       " 'Возраст',\n",
       " 'Браузер',\n",
       " 'Версия браузера',\n",
       " 'Время на сайте',\n",
       " 'Дата посещения',\n",
       " 'Купленные товары']"
      ]
     },
     "execution_count": 3,
     "metadata": {},
     "output_type": "execute_result"
    }
   ],
   "source": [
    "df = pd.read_excel('logs.xlsx', sheet_name='log')\n",
    "list(df)"
   ]
  },
  {
   "cell_type": "code",
   "execution_count": 4,
   "id": "ff7c8255",
   "metadata": {},
   "outputs": [
    {
     "name": "stdout",
     "output_type": "stream",
     "text": [
      "[('Яндекс: мобильное приложение', 457), ('Яндекс.Браузер', 241), ('Chrome Mobile', 186), ('Google Chrome', 161), ('Android Browser', 144), ('Mobile Safari', 91), ('Opera', 56)]\n"
     ]
    }
   ],
   "source": [
    "session_counter = collections.Counter(df['Браузер'])\n",
    "print(session_counter.most_common(7))"
   ]
  },
  {
   "cell_type": "code",
   "execution_count": 5,
   "id": "fbdc871e",
   "metadata": {},
   "outputs": [],
   "source": [
    "sorted_month_sessions = df.groupby(df['Дата посещения'].dt.strftime('%B'))['Браузер'].value_counts()\n",
    "sms_dict = sorted_month_sessions.to_dict()"
   ]
  },
  {
   "cell_type": "code",
   "execution_count": 6,
   "id": "59d9e754",
   "metadata": {
    "scrolled": true
   },
   "outputs": [],
   "source": [
    "sorted_month_goods = df.groupby(df['Дата посещения'].dt.strftime('%B'))['Купленные товары'].sum()\n",
    "smg_dict = sorted_month_goods.to_dict()\n",
    "sales_counter = collections.Counter((sum([val.strip().split(',') for val in smg_dict.values()], [])))\n",
    "\n",
    "wb = openpyxl.load_workbook(filename='report_template.xlsx', data_only=True)\n",
    "ws = wb.active\n",
    "good = 0\n",
    "month_num = 1\n",
    "for row in range(19, 26):\n",
    "    month_num = 1\n",
    "    for column in range(2, 14):\n",
    "        \n",
    "        try:\n",
    "            ws.cell(row=row, column=column, value=collections.Counter(smg_dict[MONTH_COLLECTION[month_num]].split(','))[sales_counter.most_common(7)[good][0]])\n",
    "            ws.cell(row=row, column=1, value=sales_counter.most_common(7)[good][0])\n",
    "\n",
    "        except: ws.cell(row=row, column=column, value=0)\n",
    "        \n",
    "        ws.cell(row=26, column=column, value=f'=SUM({chr(column + 64)}19:{chr(column + 64)}25)')\n",
    "        month_num += 1\n",
    "    good += 1\n",
    "\n",
    "wb.save('111.xlsx')"
   ]
  },
  {
   "cell_type": "code",
   "execution_count": 7,
   "id": "b12b926e",
   "metadata": {
    "scrolled": true
   },
   "outputs": [
    {
     "data": {
      "text/plain": [
       "[('ArtSpace Обложки для учебников 23', 101),\n",
       " ('Защитное стекло для Huawei Honor 30S', 101),\n",
       " ('ArtSpace Набор обложек для дневников и тетрадей 210х350 мм', 100),\n",
       " ('Greenwich Line Набор обложек для учебников', 96),\n",
       " ('ArtSpace Набор обложек для дневников и тетрадей 210x350 мм', 94),\n",
       " ('Парковочная автовизитка с магнитными цифрами', 93),\n",
       " ('Шторка для веб камеры универсальная', 91)]"
      ]
     },
     "execution_count": 7,
     "metadata": {},
     "output_type": "execute_result"
    }
   ],
   "source": [
    "sales_counter.most_common(7)\n"
   ]
  },
  {
   "cell_type": "code",
   "execution_count": 8,
   "id": "779e5cbe",
   "metadata": {},
   "outputs": [
    {
     "name": "stdout",
     "output_type": "stream",
     "text": [
      "ArtSpace Набор обложек для дневников и тетрадей 210х350 мм , Подставка для книг ЭКОНОМ ПДК16-03 в ассортименте\n",
      "Защитное стекло для Huawei Honor 30S , Обложки универсальные для тетрадей с липким слоем арт.38019\n"
     ]
    }
   ],
   "source": [
    "goods_dict = df.groupby(df['Пол'])['Купленные товары'].sum()\n",
    "\n",
    "women_goods_list = goods_dict['ж']\n",
    "most_popular_women_goods = collections.Counter(women_goods_list.strip().split(',')).most_common()\n",
    "most_popular_women_good = most_popular_women_goods[1][0]\n",
    "most_unpopular_women_good = most_popular_women_goods[-1][0]\n",
    "\n",
    "men_goods_list = goods_dict['м']\n",
    "most_popular_men_goods = collections.Counter(men_goods_list.strip().split(',')).most_common()\n",
    "most_popular_men_good = most_popular_men_goods[1][0]\n",
    "most_unpopular_men_good = most_popular_men_goods[-1][0]\n",
    "\n",
    "print(most_popular_women_good, ',', most_unpopular_women_good)\n",
    "print(most_popular_men_good, ',', most_unpopular_men_good)"
   ]
  },
  {
   "cell_type": "code",
   "execution_count": 9,
   "id": "26cbd8c2",
   "metadata": {},
   "outputs": [],
   "source": [
    "wb = openpyxl.load_workbook(filename='report_template.xlsx', data_only=True)\n",
    "ws = wb.active\n",
    "browser = 0\n",
    "month_num = 1\n",
    "for row in range(5, 12):\n",
    "    month_num = 1\n",
    "    for column in range(2, 14):\n",
    "        \n",
    "        try:\n",
    "            ws.cell(row=row, column=column, value=sms_dict[MONTH_COLLECTION[month_num], session_counter.most_common(7)[browser][0]])\n",
    "            ws.cell(row=row, column=1, value=session_counter.most_common(7)[browser][0])\n",
    "\n",
    "        except: ws.cell(row=row, column=column, value=0)\n",
    "        \n",
    "        ws.cell(row=12, column=column, value=f'=SUM({chr(column + 64)}5:{chr(column + 64)}11)')\n",
    "        month_num += 1\n",
    "    browser += 1\n",
    "\n",
    "wb.save('111.xlsx')\n",
    "\n"
   ]
  },
  {
   "cell_type": "code",
   "execution_count": 10,
   "id": "fd00a0ed",
   "metadata": {},
   "outputs": [],
   "source": [
    "def make_report(log_file_name, report_template_file_name, report_output_file_name):\n",
    "    '''\n",
    "    :param log_file_name: имя файла логов\n",
    "    :param report_template_file: имя файла-шаблона для отчета\n",
    "    :param report_output_file_name: имя файла отчета\n",
    "    :return: создает отчет в формате report.xlsx\n",
    "    '''\n",
    "    # Чтение и анализ данных из файла excel\n",
    "    df = pd.read_excel(log_file_name, sheet_name='log')\n",
    "    \n",
    "    # Считаем количество сессий по браузерам, сортируем по месяцам и запаковываем в словарь. Считаем самые популярные браузеры.\n",
    "    session_counter = collections.Counter(df['Браузер'])\n",
    "    sorted_month_sessions = df.groupby(df['Дата посещения'].dt.strftime('%B'))['Браузер'].value_counts()\n",
    "    sms_dict = sorted_month_sessions.to_dict()\n",
    "    \n",
    "    # Сортируем и суммируем строки купленных товаров по всем покупкам по месяцам. Считаем самые продаваемые товары\n",
    "    sorted_month_goods = df.groupby(df['Дата посещения'].dt.strftime('%B'))['Купленные товары'].sum()\n",
    "    smg_dict = sorted_month_goods.to_dict()\n",
    "    sales_counter = collections.Counter((sum([val.strip().split(',') for val in smg_dict.values()], [])))\n",
    "    \n",
    "    # Собираем все покупки в разрезе пола в словарь и суммируем их\n",
    "    goods_dict = df.groupby(df['Пол'])['Купленные товары'].sum()\n",
    "    \n",
    "    # Открываем файл шаблона отчета report_template.xlsx\n",
    "    wb = openpyxl.load_workbook(filename=report_template_file_name, data_only=True)\n",
    "    ws = wb.active\n",
    "    \n",
    "    # Выполняем запись данных в объект wb\n",
    "    # Цикл для 1-го задания:  \n",
    "    browser = 0  # Номер браузера в самых популярных браузерах\n",
    "    month_num = 1\n",
    "    for row in range(5, 12):  # Строки на листе шаблона\n",
    "        month_num = 1  # Столбцы на листе шаблона\n",
    "        for column in range(2, 14):\n",
    "            try:\n",
    "                ws.cell(row=row, column=column, value=sms_dict[MONTH_COLLECTION[month_num], session_counter.most_common(7)[browser][0]])  # Заполняем значения использования\n",
    "                ws.cell(row=row, column=1, value=session_counter.most_common(7)[browser][0])  # Заполняем названия браузеров\n",
    "\n",
    "            except: ws.cell(row=row, column=column, value=0)\n",
    "\n",
    "            ws.cell(row=12, column=column, value=f'=SUM({chr(column + 64)}5:{chr(column + 64)}11)')\n",
    "            month_num += 1\n",
    "        browser += 1\n",
    "        \n",
    "    # Цикл для 2-го задания:      \n",
    "    good = 0  # Номер товара в самых популярных товарах\n",
    "    month_num = 1\n",
    "    for row in range(19, 26):  # Строки на листе шаблона\n",
    "        month_num = 1 \n",
    "        for column in range(2, 14):  # Столбцы на листе шаблона\n",
    "\n",
    "            try:\n",
    "                ws.cell(row=row, column=column, value=collections.Counter(smg_dict[MONTH_COLLECTION[month_num]].split(','))[sales_counter.most_common(7)[good][0]])  # Заполняем значения проданных товаров\n",
    "                ws.cell(row=row, column=1, value=sales_counter.most_common(7)[good][0])  # Заполняем названия товаров\n",
    "\n",
    "            except: ws.cell(row=row, column=column, value=0)\n",
    "\n",
    "            ws.cell(row=26, column=column, value=f'=SUM({chr(column + 64)}19:{chr(column + 64)}25)')\n",
    "            month_num += 1\n",
    "        good += 1    \n",
    "        \n",
    "    \n",
    "    # Цикл для 3-го задания  \n",
    "    women_goods_list = goods_dict['ж']  # Выделяем женские покупки из словаря\n",
    "    most_popular_women_goods = collections.Counter(women_goods_list.strip().split(',')).most_common()  # Считаем популярные покупки\n",
    "    most_popular_women_good = most_popular_women_goods[1][0]  # Берем самый популярный товар\n",
    "    most_unpopular_women_good = most_popular_women_goods[-1][0]  # Берем самый непопулярный товар\n",
    "\n",
    "    men_goods_list = goods_dict['м']  # Выделяем мужские покупки из словаря\n",
    "    most_popular_men_goods = collections.Counter(men_goods_list.strip().split(',')).most_common()  # Считаем популярные покупки\n",
    "    most_popular_men_good = most_popular_men_goods[1][0]  # Берем самый популярный товар\n",
    "    most_unpopular_men_good = most_popular_men_goods[-1][0]  # Берем самый непопулярный товар\n",
    "    \n",
    "    # Записываем полученные данные в шаблон\n",
    "    ws.cell(row=31, column=2, value=most_popular_men_good)\n",
    "    ws.cell(row=32, column=2, value=most_popular_women_good)\n",
    "    ws.cell(row=33, column=2, value=most_unpopular_men_good)\n",
    "    ws.cell(row=34, column=2, value=most_unpopular_women_good)\n",
    "    \n",
    "    \n",
    "    # Сохраняем файл отчета\n",
    "    wb.save(report_output_file_name)"
   ]
  },
  {
   "cell_type": "code",
   "execution_count": 11,
   "id": "cc77156d",
   "metadata": {},
   "outputs": [],
   "source": [
    "make_report('logs.xlsx', 'report_template.xlsx', '222.xlsx')"
   ]
  }
 ],
 "metadata": {
  "kernelspec": {
   "display_name": "Python 3 (ipykernel)",
   "language": "python",
   "name": "python3"
  },
  "language_info": {
   "codemirror_mode": {
    "name": "ipython",
    "version": 3
   },
   "file_extension": ".py",
   "mimetype": "text/x-python",
   "name": "python",
   "nbconvert_exporter": "python",
   "pygments_lexer": "ipython3",
   "version": "3.9.6"
  }
 },
 "nbformat": 4,
 "nbformat_minor": 5
}
